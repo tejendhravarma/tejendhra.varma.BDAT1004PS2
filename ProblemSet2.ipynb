{
 "cells": [
  {
   "cell_type": "code",
   "execution_count": null,
   "id": "0f64e404",
   "metadata": {},
   "outputs": [],
   "source": [
    "# Question 1\n",
    "a = 0#given a variable value\n",
    "def b():  #defined function 'b'\n",
    " global a #made  a global value\n",
    " a = c(a) #variable 'a' calls function 'c' by passing down a parameter 'a'\n",
    "def c(a):#defines a function called 'c' with a parameter value 'a'\n",
    " return a + 2 #returns the summation\n"
   ]
  },
  {
   "cell_type": "code",
   "execution_count": null,
   "id": "e33019f7",
   "metadata": {},
   "outputs": [],
   "source": [
    "b()"
   ]
  },
  {
   "cell_type": "code",
   "execution_count": null,
   "id": "e7aa3ee7",
   "metadata": {},
   "outputs": [],
   "source": [
    "b()"
   ]
  },
  {
   "cell_type": "code",
   "execution_count": null,
   "id": "d0be8c8a",
   "metadata": {},
   "outputs": [],
   "source": [
    "b()"
   ]
  },
  {
   "cell_type": "code",
   "execution_count": null,
   "id": "23e18523",
   "metadata": {},
   "outputs": [],
   "source": [
    "a"
   ]
  },
  {
   "cell_type": "code",
   "execution_count": null,
   "id": "bd0baf90",
   "metadata": {},
   "outputs": [],
   "source": [
    "# Q2\n",
    "def filelength(filename):#function defined\n",
    "    try:\n",
    "    \n",
    "        file = open(filename)#opens the file contents\n",
    "        contents = file.read()#reads the content from files\n",
    "        file.close()\n",
    "        print(len(contents))\n",
    "    \n",
    "    except FileNotFoundError:\n",
    "        print('File'+filename+'not found')\n",
    "        "
   ]
  },
  {
   "cell_type": "code",
   "execution_count": null,
   "id": "3eab7574",
   "metadata": {},
   "outputs": [],
   "source": [
    "filelength('Assignment2.ipynb')#function called"
   ]
  },
  {
   "cell_type": "code",
   "execution_count": null,
   "id": "c51298da",
   "metadata": {},
   "outputs": [],
   "source": [
    "filelength('midterm.py')"
   ]
  },
  {
   "cell_type": "code",
   "execution_count": null,
   "id": "648f757e",
   "metadata": {},
   "outputs": [],
   "source": [
    "#Question 3\n",
    "class Marsupial:                  #Create a class named Marsupial\n",
    "    def __init__(self):      \n",
    "         self.lst=[]              #Create an empty list in the init method\n",
    "    def put_in_pouch(self,pouch): #Create a method to add the elements\n",
    "        self.lst.append(pouch)\n",
    "    def pouch_contents(self):\n",
    "        return self.lst           #Return the list\n",
    "m = Marsupial() \n",
    "m.put_in_pouch('doll')\n",
    "m.put_in_pouch('firetruck')\n",
    "m.put_in_pouch('kitten')\n",
    "m.pouch_contents()"
   ]
  },
  {
   "cell_type": "code",
   "execution_count": null,
   "id": "d45191ef",
   "metadata": {},
   "outputs": [],
   "source": [
    "class Marsupial(object):\n",
    "    def __init__(self):\n",
    "        self.myList = []\n",
    "    def put_in_pouch(self,item):\n",
    "        self.myList.append(item)\n",
    "    def pouch_contents(self):\n",
    "        return self.myList\n",
    "\n",
    "class Kangaroo(Marsupial):\n",
    "    def __init__(self,x,y):\n",
    "        Marsupial.__init__(self)\n",
    "        self.x = x\n",
    "        self.y = y\n",
    "    def jump(self,ax,ay):\n",
    "        self.x += ax\n",
    "        self.y += ay\n",
    "    def __str__(self):\n",
    "        return \"I am a Kangaroo located at co-ordinates ({},{})\".format(self.x,self.y)\n",
    "    \n",
    "my = Marsupial()\n",
    "my.put_in_pouch('doll')\n",
    "my.put_in_pouch('firetruck')\n",
    "my.put_in_pouch('kitten')\n",
    "my.pouch_contents()\n",
    "\n",
    "kg = Kangaroo(0,0)\n",
    "\n",
    "print(kg)\n",
    "\n",
    "kg.put_in_pouch('doll')\n",
    "kg.put_in_pouch('firetruck')\n",
    "kg.put_in_pouch('kitten')\n",
    "kg.pouch_contents()\n",
    "kg.jump(1,0)\n",
    "kg.jump(1,0)\n",
    "kg.jump(1,0)\n",
    "print(kg)"
   ]
  },
  {
   "cell_type": "code",
   "execution_count": null,
   "id": "5d6e2a29",
   "metadata": {},
   "outputs": [],
   "source": [
    "#Question 4\n",
    "def collatz(number):\n",
    "    if number !=1:\n",
    "        if number % 2 == 0:\n",
    "            number = number/2\n",
    "            (print(int(number)))\n",
    "            collatz(number)\n",
    "        else:\n",
    "            number = (3*number+1)\n",
    "            (print(int(number)))\n",
    "            collatz(number)"
   ]
  },
  {
   "cell_type": "code",
   "execution_count": null,
   "id": "91371095",
   "metadata": {},
   "outputs": [],
   "source": [
    "print(10)\n",
    "collatz(10)"
   ]
  },
  {
   "cell_type": "code",
   "execution_count": null,
   "id": "0b6f417d",
   "metadata": {},
   "outputs": [],
   "source": [
    "print(1)\n",
    "collatz(1)"
   ]
  },
  {
   "cell_type": "code",
   "execution_count": null,
   "id": "2e90b487",
   "metadata": {},
   "outputs": [],
   "source": [
    "#question 5\n",
    "def binary(n):\n",
    "    if n > 1:\n",
    "        binary(n//2)\n",
    "    print(n % 2,end = '')"
   ]
  },
  {
   "cell_type": "code",
   "execution_count": null,
   "id": "b2950a48",
   "metadata": {},
   "outputs": [],
   "source": [
    "binary(0)"
   ]
  },
  {
   "cell_type": "code",
   "execution_count": null,
   "id": "48155d96",
   "metadata": {},
   "outputs": [],
   "source": [
    "binary(1)"
   ]
  },
  {
   "cell_type": "code",
   "execution_count": null,
   "id": "699da4a5",
   "metadata": {},
   "outputs": [],
   "source": [
    "binary(3)"
   ]
  },
  {
   "cell_type": "code",
   "execution_count": null,
   "id": "a9a214a1",
   "metadata": {},
   "outputs": [],
   "source": [
    "binary(9)"
   ]
  },
  {
   "cell_type": "markdown",
   "id": "d645b38a",
   "metadata": {},
   "source": [
    "# Question 6\n",
    "\n",
    "from urllib.request import urlopen\n",
    "\n",
    "def getSource(url): #search for the webpages response = urlopen(url) html = response.read() return html.decode()\n",
    "\n",
    "def feedParser (self): # read the page infile = open('w3c.html') content = infile.read() infile.close()\n",
    "\n",
    "from html.parser import HTMLParser parser = HTMLParser() parser.feed(content) #feed the strings of the page into parser\n",
    "\n",
    "class HeadingParser(HTMLParser):\n",
    "\n",
    "def__init__(self):\n",
    "\n",
    "    HTMLParser.__init__(self)\n",
    "    self.indent=0\n",
    "\n",
    "def handler_starttag(self,tag,attrs):\n",
    "\n",
    "    for tag not in {'br','p'}: # p is the paraghraph element, br is the line break element. IF a tag is not a paraghraph element, tag is a header\n",
    "\n",
    "        print('/n{}{}start'.format(self.indetn*' ',tag))\n",
    "        self.indent+=4"
   ]
  },
  {
   "cell_type": "markdown",
   "id": "d349986a",
   "metadata": {},
   "source": [
    "# Question 7\n",
    "\n",
    "class Crawler: def init(self): self.visited = set()\n",
    "\n",
    "def webdir(self, url, depth, indent):\n",
    "    links = analyze(url)\n",
    "    sekf.visited.add(url)\n",
    "\n",
    "    for link in links:\n",
    "        if link not in self.visited:\n",
    "            try:\n",
    "                if depth >= 0:\n",
    "\n",
    "                    indent = 0\n",
    "\n",
    "                    for click in depth: \n",
    "\n",
    "                        self.webdir(link, depth, indent)\n",
    "                        print(url)\n",
    "                        self.indent =+1\n",
    "\n",
    "                else:\n",
    "                    pass\n",
    "            except:\n",
    "                pass\n",
    "\n",
    "webdir('http://reed.cs.depaul.edu/lperkovic/csc242/test1.html', 2, 0)"
   ]
  },
  {
   "cell_type": "markdown",
   "id": "566e445b",
   "metadata": {},
   "source": [
    "# Question 8\n",
    "\n",
    "con = sqlite3.connect('web.db')\n",
    "\n",
    "cur = con.cursor()\n",
    "\n",
    "cur.execute(\"CREATE TABLE Weather (City text, Country text, Season text, Temperature(C) real,Rainfall(mm) real)\")\n",
    "\n",
    "cur.execute(\"INSERT INTO Weather VALUES ('Mumbai', 'India', 'Winter', 24.8, 5.9)\")\n",
    "\n",
    "cur.execute(\"INSERT INTO Weather VALUES ('Mumbai', 'India', 'Spring', 28.4, 16.2)\")\n",
    "\n",
    "cur.execute(\"INSERT INTO Weather VALUES ('Mumbai', 'India', 'Summer', 27.9 1549.4)\")\n",
    "\n",
    "cur.execute(\"INSERT INTO Weather VALUES ('Mumbai', 'India', 'Fall', 27.6, 346.0)\")\n",
    "\n",
    "cur.execute(\"INSERT INTO Weather VALUES ('London', 'United Kingdom', 'Winter', 4.2, 207.7)\")\n",
    "\n",
    "cur.execute(\"INSERT INTO Weather VALUES ('London', 'United Kingdom', 'Spring',8.3 , 169.6)\")\n",
    "\n",
    "cur.execute(\"INSERT INTO Weather VALUES ('London', 'United Kingdom', 'Summer', 15.7 , 157.0)\")\n",
    "\n",
    "cur.execute(\"INSERT INTO Weather VALUES ('London', 'United', 'Kingdom', 'Fall', 10.4 , 218.5)\")\n",
    "\n",
    "cur.execute(\"INSERT INTO Weather VALUES ('Cairo', 'Egypt', 'Winter', 13.6, 16.5)\")\n",
    "\n",
    "cur.execute(\"INSERT INTO Weather VALUES ('Cairo', 'Egypt', 'Spring', 20.7, 6.5)\")\n",
    "\n",
    "cur.execute(\"INSERT INTO Weather VALUES ('Cairo', 'Egypt', 'Summer', 27.7, 0.1)\")\n",
    "\n",
    "cur.execute(\"INSERT INTO Weather VALUES ('Cairo', 'Egypt', 'Fall', 22.2, 4.5)\")\n",
    "\n",
    "# Question a: All the temperature data.\n",
    "\n",
    "SELECT Temperature FROM Weather\n",
    "\n",
    "# Question b: All the cities, but without repetition.\n",
    "\n",
    "SELECT DISTINCT City FROM Weather \n",
    "\n",
    "# question c: All the records for India.\n",
    "\n",
    "SELECT * FROM Weather \n",
    "WHERE Country = 'India'\n",
    "\n",
    "# question d: All the Fall records.\n",
    "\n",
    "SELECT * FROM Weather \n",
    "WHERE Season = 'Fall'\n",
    "\n",
    "# question e: The city, country, and season for which the average rainfall is between 200\n",
    "and 400 millimeters.\n",
    "\n",
    "SELECT City, Country, Season \n",
    "FROM Weather \n",
    "WHERE Rainfall BETWEEN 200 and 400\n",
    "\n",
    "# question f: The city and country for which the average Fall temperature is above 20\n",
    "degrees, in increasing temperature order.\n",
    "\n",
    "SELECT City, Country FROM Weather \n",
    "WHERE Season = 'Fall' and Temperature > 20 \n",
    "ORDER BY Temperature ASC\n",
    "\n",
    "# question g: The total annual rainfall for Cairo.\n",
    "\n",
    "SELECT SUM(Rainfall) FROM Weather \n",
    "Where Country = 'Cairo'\n",
    "\n",
    "# question h: The total rainfall for each season.\n",
    "\n",
    "SELECT SUM(Rainfall) FROM Weather \n",
    "GROUP BY Season"
   ]
  },
  {
   "cell_type": "code",
   "execution_count": null,
   "id": "8a61438b",
   "metadata": {},
   "outputs": [],
   "source": [
    "# Question 9\n",
    "\n",
    "#a\n",
    "words = ['The', 'quick', 'brown', 'fox', 'jumps', 'over', 'the', 'lazy', 'dog']\n",
    "words = [element.upper()for element in words];words"
   ]
  },
  {
   "cell_type": "code",
   "execution_count": null,
   "id": "ad40cd82",
   "metadata": {},
   "outputs": [],
   "source": [
    "#b\n",
    "words = ['The', 'quick', 'brown', 'fox', 'jumps', 'over', 'the', 'lazy', 'dog']\n",
    "words = [element.lower()for element in words];words"
   ]
  },
  {
   "cell_type": "code",
   "execution_count": null,
   "id": "4a27779a",
   "metadata": {},
   "outputs": [],
   "source": [
    "#c\n",
    "[len(words) for words in ['The', 'quick', 'brown', 'fox', 'jumps', 'over','the', 'lazy', 'dog']]"
   ]
  },
  {
   "cell_type": "code",
   "execution_count": null,
   "id": "bcf63466",
   "metadata": {},
   "outputs": [],
   "source": [
    "#d\n",
    "words = ['The', 'quick', 'brown', 'fox', 'jumps', 'over','the', 'lazy', 'dog']\n",
    "newList=[]\n",
    "for word in words:\n",
    "    newList.append(word.upper())\n",
    "    newList.append(word.lower())\n",
    "    newList.append(len(word))\n",
    "\n",
    "print(newList)"
   ]
  },
  {
   "cell_type": "code",
   "execution_count": null,
   "id": "1fa68735",
   "metadata": {},
   "outputs": [],
   "source": [
    "#e\n",
    "words=['The', 'quick', 'brown', 'fox', 'jumps', 'over','the', 'lazy', 'dog']\n",
    "newList = [i for i in words if len(i) >= 4]\n",
    "newList"
   ]
  },
  {
   "cell_type": "code",
   "execution_count": null,
   "id": "b6a73d37",
   "metadata": {},
   "outputs": [],
   "source": []
  }
 ],
 "metadata": {
  "kernelspec": {
   "display_name": "Python 3",
   "language": "python",
   "name": "python3"
  },
  "language_info": {
   "codemirror_mode": {
    "name": "ipython",
    "version": 3
   },
   "file_extension": ".py",
   "mimetype": "text/x-python",
   "name": "python",
   "nbconvert_exporter": "python",
   "pygments_lexer": "ipython3",
   "version": "3.8.8"
  }
 },
 "nbformat": 4,
 "nbformat_minor": 5
}
